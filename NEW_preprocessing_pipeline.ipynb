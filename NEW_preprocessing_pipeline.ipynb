{
 "cells": [
  {
   "cell_type": "code",
   "execution_count": 8,
   "metadata": {
    "collapsed": false,
    "deletable": true,
    "editable": true
   },
   "outputs": [],
   "source": [
    "import ee\n",
    "import pandas as pd\n",
    "import asset_paths_to_cop_data as fc_paths\n",
    "import make_difference_images as di_module\n",
    "\n",
    "ee.Initialize()"
   ]
  },
  {
   "cell_type": "code",
   "execution_count": 9,
   "metadata": {
    "collapsed": true,
    "deletable": true,
    "editable": true
   },
   "outputs": [],
   "source": [
    "def import_FCs():\n",
    "    subsite_filenames = [y for x in fc_paths.ALL_FILENAMES for y in x]\n",
    "    poly_data = []\n",
    "    for ss_fc_tuple in subsite_filenames:\n",
    "        ss_name = ss_fc_tuple[0].split(\"/\")[3]\n",
    "        roi = ee.FeatureCollection(ss_fc_tuple[0])\n",
    "        flood_poly = ee.FeatureCollection(ss_fc_tuple[1])\n",
    "        poly_data.append([ss_name, roi, flood_poly])\n",
    "    return poly_data"
   ]
  },
  {
   "cell_type": "code",
   "execution_count": 10,
   "metadata": {
    "collapsed": true
   },
   "outputs": [],
   "source": [
    "def get_S1_images(all_geometries):\n",
    "    return ee.ImageCollection('COPERNICUS/S1_GRD') \\\n",
    "        .filter(ee.Filter.eq('instrumentMode', 'IW')) \\\n",
    "        .filter(ee.Filter.listContains('transmitterReceiverPolarisation', 'VV')) \\\n",
    "        .filter(ee.Filter.eq('orbitProperties_pass', 'DESCENDING')) \\\n",
    "        .filterBounds(all_geometries) \\\n",
    "        .select(['VV'])"
   ]
  },
  {
   "cell_type": "code",
   "execution_count": 11,
   "metadata": {
    "collapsed": false,
    "deletable": true,
    "editable": true
   },
   "outputs": [],
   "source": [
    "def create_labelled_dataset(poly_and_di_df):\n",
    "    labelled_data = []\n",
    "    for i, row in poly_and_di_df.iterrows():\n",
    "        geom, flood, di = row['Geometry'], row['Flood Poly'], row['Difference Image']\n",
    "        bounds = ee.FeatureCollection(geom.geometry().bounds())\n",
    "        empty = ee.Image.constant(0).byte().clip(bounds)\n",
    "        painted = empty.paint(flood, 1)\n",
    "        di_with_flood = di.addBands(painted.clip(bounds))\n",
    "        training = di_with_flood.stratifiedSample(3000,'constant', bounds,10,'EPSG:4326')\n",
    "        labelled_data.append([row['Subsites'], training])\n",
    "    final_df = poly_and_di_df.merge(pd.DataFrame(labelled_data, columns=['Subsites', 'Labelled Data']))\n",
    "    return final_df"
   ]
  },
  {
   "cell_type": "code",
   "execution_count": 12,
   "metadata": {
    "collapsed": true,
    "deletable": true,
    "editable": true
   },
   "outputs": [],
   "source": [
    "def batch_export_tfrecords_to_GCS(collection_to_export, file_name_prefix, output_features):\n",
    "    task = ee.batch.Export.table.toCloudStorage(\n",
    "        collection=collection_to_export,\n",
    "        bucket='labelled_data',\n",
    "        fileFormat='TFRecord',\n",
    "        fileNamePrefix=file_name_prefix,\n",
    "        selectors=output_features\n",
    "    )\n",
    "    task.start()"
   ]
  },
  {
   "cell_type": "code",
   "execution_count": 13,
   "metadata": {
    "collapsed": true
   },
   "outputs": [],
   "source": [
    "poly_data = import_FCs()\n",
    "poly_df = pd.DataFrame(poly_data, columns=['Subsites', 'Geometry', 'Flood Poly'])\n",
    "all_geometries = ee.FeatureCollection(poly_df['Geometry'].tolist()).flatten()"
   ]
  },
  {
   "cell_type": "code",
   "execution_count": 14,
   "metadata": {
    "collapsed": true
   },
   "outputs": [],
   "source": [
    "images = get_S1_images(all_geometries)\n",
    "poly_and_di_df = di_module.add_DIs(poly_df, images)"
   ]
  },
  {
   "cell_type": "code",
   "execution_count": 15,
   "metadata": {
    "collapsed": false,
    "deletable": true,
    "editable": true
   },
   "outputs": [],
   "source": [
    "final_df = create_labelled_dataset(poly_and_di_df)"
   ]
  },
  {
   "cell_type": "code",
   "execution_count": 27,
   "metadata": {
    "collapsed": false,
    "deletable": true,
    "editable": true
   },
   "outputs": [],
   "source": [
    "labelled_data = ee.FeatureCollection(final_df['Labelled Data'].tolist()).flatten().randomColumn()\n"
   ]
  },
  {
   "cell_type": "code",
   "execution_count": 29,
   "metadata": {
    "collapsed": false
   },
   "outputs": [],
   "source": [
    "training_partition = labelled_data.filter(ee.Filter.lt('random', 0.7))\n",
    "test_partition = labelled_data.filter(ee.Filter.gte('random', 0.7))"
   ]
  },
  {
   "cell_type": "code",
   "execution_count": 30,
   "metadata": {
    "collapsed": false,
    "deletable": true,
    "editable": true
   },
   "outputs": [],
   "source": [
    "\n",
    "batch_export_tfrecords_to_GCS(training_partition, 'py6_training_' , ['VV', 'constant'])\n",
    "batch_export_tfrecords_to_GCS(test_partition, 'py6_test_', ['VV', 'constant'])"
   ]
  },
  {
   "cell_type": "code",
   "execution_count": null,
   "metadata": {
    "collapsed": true,
    "deletable": true,
    "editable": true
   },
   "outputs": [],
   "source": []
  }
 ],
 "metadata": {
  "kernelspec": {
   "display_name": "Python 2",
   "language": "python",
   "name": "python2"
  },
  "language_info": {
   "codemirror_mode": {
    "name": "ipython",
    "version": 2
   },
   "file_extension": ".py",
   "mimetype": "text/x-python",
   "name": "python",
   "nbconvert_exporter": "python",
   "pygments_lexer": "ipython2",
   "version": "2.7.12"
  }
 },
 "nbformat": 4,
 "nbformat_minor": 2
}
