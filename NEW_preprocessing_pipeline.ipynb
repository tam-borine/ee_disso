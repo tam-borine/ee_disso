{
 "cells": [
  {
   "cell_type": "code",
   "execution_count": 1,
   "metadata": {
    "collapsed": false,
    "deletable": true,
    "editable": true
   },
   "outputs": [],
   "source": [
    "import ee\n",
    "import pandas as pd\n",
    "import asset_paths_to_cop_data as fc_paths\n",
    "import make_difference_images as di_module\n",
    "\n",
    "ee.Initialize()"
   ]
  },
  {
   "cell_type": "code",
   "execution_count": 47,
   "metadata": {
    "collapsed": true,
    "deletable": true,
    "editable": true
   },
   "outputs": [],
   "source": [
    "def import_FCs():\n",
    "    subsite_filenames = [y for x in fc_paths.ALL_FILENAMES for y in x]\n",
    "    poly_data = []\n",
    "    for ss_fc_tuple in subsite_filenames:\n",
    "        ss_name = ss_fc_tuple[0].split(\"/\")[3]\n",
    "        asset_id = ss_fc_tuple[0].split(\"/\")[4]\n",
    "        roi = ee.FeatureCollection(ss_fc_tuple[0])\n",
    "        flood_poly = ee.FeatureCollection(ss_fc_tuple[1])\n",
    "        poly_data.append([ss_name, asset_id, roi, flood_poly])\n",
    "    return poly_data"
   ]
  },
  {
   "cell_type": "code",
   "execution_count": 42,
   "metadata": {
    "collapsed": true,
    "deletable": true,
    "editable": true
   },
   "outputs": [],
   "source": [
    "def get_S1_images(all_geometries):\n",
    "    return ee.ImageCollection('COPERNICUS/S1_GRD') \\\n",
    "        .filter(ee.Filter.eq('instrumentMode', 'IW')) \\\n",
    "        .filter(ee.Filter.listContains('transmitterReceiverPolarisation', 'VV')) \\\n",
    "        .filter(ee.Filter.eq('orbitProperties_pass', 'DESCENDING')) \\\n",
    "        .filterBounds(all_geometries) \\\n",
    "        .select(['VV'])"
   ]
  },
  {
   "cell_type": "code",
   "execution_count": 54,
   "metadata": {
    "collapsed": false,
    "deletable": true,
    "editable": true
   },
   "outputs": [],
   "source": [
    "def create_labelled_dataset(poly_and_di_df):\n",
    "    labelled_data = []\n",
    "    for i, row in poly_and_di_df.iterrows():\n",
    "        geom, flood, di = row['Geometry'], row['Flood Poly'], row['Difference Image']\n",
    "        bounds = ee.FeatureCollection(geom.geometry().bounds())\n",
    "        empty = ee.Image.constant(0).byte().clip(bounds)\n",
    "        painted = empty.paint(flood, 1)\n",
    "        di_with_flood = di.addBands(painted.clip(bounds)).addBands(ee.Image.pixelLonLat())\n",
    "#         training = di_with_flood.stratifiedSample(10000,'constant', bounds,10,'EPSG:4326', geometries=True)\n",
    "        labelled_data.append([row['Subsites'], di_with_flood])\n",
    "    final_df = poly_and_di_df.merge(pd.DataFrame(labelled_data, columns=['Subsites', 'Labelled Data']))\n",
    "    return final_df"
   ]
  },
  {
   "cell_type": "code",
   "execution_count": 107,
   "metadata": {
    "collapsed": false
   },
   "outputs": [],
   "source": [
    "def batch_export_images_as_tfrecords_to_GCS(image, bounds, file_name_prefix):\n",
    "  task = ee.batch.Export.image.toCloudStorage(\n",
    "    image=image,\n",
    "    bucket='labelled_data',\n",
    "    fileNamePrefix=file_name_prefix,\n",
    "    region=bounds.getInfo()['coordinates'],\n",
    "    scale=10,\n",
    "    maxPixels=1E10,\n",
    "    fileFormat='TFRecord',\n",
    "    formatOptions={'patchDimensions':[256,256]}\n",
    "  )\n",
    "  task.start()"
   ]
  },
  {
   "cell_type": "code",
   "execution_count": 57,
   "metadata": {
    "collapsed": false,
    "deletable": true,
    "editable": true
   },
   "outputs": [],
   "source": [
    "poly_data = import_FCs()\n",
    "poly_df = pd.DataFrame(poly_data, columns=['Subsites', 'Asset Id', 'Geometry', 'Flood Poly'])\n",
    "all_geometries = ee.FeatureCollection(poly_df['Geometry'].tolist()).flatten()"
   ]
  },
  {
   "cell_type": "code",
   "execution_count": 58,
   "metadata": {
    "collapsed": false
   },
   "outputs": [],
   "source": [
    "# poly_df[0:11]"
   ]
  },
  {
   "cell_type": "code",
   "execution_count": 59,
   "metadata": {
    "collapsed": true,
    "deletable": true,
    "editable": true
   },
   "outputs": [],
   "source": [
    "images = get_S1_images(all_geometries)\n",
    "poly_and_di_df = di_module.add_DIs(poly_df, images)"
   ]
  },
  {
   "cell_type": "code",
   "execution_count": 60,
   "metadata": {
    "collapsed": false,
    "deletable": true,
    "editable": true
   },
   "outputs": [],
   "source": [
    "final_df = create_labelled_dataset(poly_and_di_df)"
   ]
  },
  {
   "cell_type": "code",
   "execution_count": 108,
   "metadata": {
    "collapsed": false,
    "deletable": true,
    "editable": true
   },
   "outputs": [],
   "source": [
    "for i, row in final_df.iterrows():\n",
    "    image_to_export = row['Labelled Data']\n",
    "    batch_export_images_as_tfrecords_to_GCS(image_to_export, row['Geometry'].geometry().bounds(), row['Asset Id'])"
   ]
  },
  {
   "cell_type": "code",
   "execution_count": null,
   "metadata": {
    "collapsed": true
   },
   "outputs": [],
   "source": []
  }
 ],
 "metadata": {
  "kernelspec": {
   "display_name": "Python 2",
   "language": "python",
   "name": "python2"
  },
  "language_info": {
   "codemirror_mode": {
    "name": "ipython",
    "version": 2
   },
   "file_extension": ".py",
   "mimetype": "text/x-python",
   "name": "python",
   "nbconvert_exporter": "python",
   "pygments_lexer": "ipython2",
   "version": "2.7.12"
  }
 },
 "nbformat": 4,
 "nbformat_minor": 2
}
