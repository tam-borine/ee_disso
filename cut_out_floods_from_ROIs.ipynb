{
 "cells": [
  {
   "cell_type": "code",
   "execution_count": 1,
   "metadata": {
    "collapsed": false,
    "deletable": true,
    "editable": true
   },
   "outputs": [],
   "source": [
    "import ee\n",
    "from ee import batch\n",
    "import pandas as pd\n",
    "from StringIO import StringIO\n",
    "import asset_paths_to_cop_data as Cop_filenames"
   ]
  },
  {
   "cell_type": "code",
   "execution_count": 2,
   "metadata": {
    "collapsed": false,
    "deletable": true,
    "editable": true
   },
   "outputs": [
    {
     "data": {
      "text/plain": [
       "'0.1.152'"
      ]
     },
     "execution_count": 2,
     "metadata": {},
     "output_type": "execute_result"
    }
   ],
   "source": [
    "import pkg_resources\n",
    "pkg_resources.get_distribution(\"earthengine-api\").version\n",
    "# !pip install --upgrade pip\n",
    "# !pip install 'earthengine-api==0.1.152' --force-reinstall\n",
    "# !pip freeze"
   ]
  },
  {
   "cell_type": "code",
   "execution_count": 3,
   "metadata": {
    "collapsed": false,
    "deletable": true,
    "editable": true
   },
   "outputs": [],
   "source": [
    "ee.Initialize()"
   ]
  },
  {
   "cell_type": "code",
   "execution_count": 4,
   "metadata": {
    "collapsed": true,
    "deletable": true,
    "editable": true
   },
   "outputs": [],
   "source": [
    "sites = [\n",
    "  \"EMSR150\",\n",
    "  \"EMSR277\",\n",
    "  \"EMSR271\",\n",
    "  \"EMSR273\",\n",
    "  \"EMSR258\",\n",
    "  \"EMSR122\",\n",
    "  \"EMSR130\"\n",
    "  ]"
   ]
  },
  {
   "cell_type": "code",
   "execution_count": 6,
   "metadata": {
    "collapsed": true,
    "deletable": true,
    "editable": true
   },
   "outputs": [],
   "source": [
    "def get_assets_as_FCs(filenames):\n",
    "    return [(ee.FeatureCollection(roi), ee.FeatureCollection(flood), roi) for roi, flood in filenames]"
   ]
  },
  {
   "cell_type": "code",
   "execution_count": 9,
   "metadata": {
    "collapsed": true,
    "deletable": true,
    "editable": true
   },
   "outputs": [],
   "source": [
    "def cutCookies(roi, fc):\n",
    "    diff = ee.Feature(roi.first()).difference(fc.geometry(10), 10);\n",
    "    return fc.merge(diff);"
   ]
  },
  {
   "cell_type": "code",
   "execution_count": 10,
   "metadata": {
    "collapsed": true,
    "deletable": true,
    "editable": true
   },
   "outputs": [],
   "source": [
    "def export_as_asset(newFC, assetId):\n",
    "    task = ee.batch.Export.table.toAsset(\n",
    "        collection=newFC,\n",
    "        assetId=assetId,\n",
    "      )\n",
    "    task.start()"
   ]
  },
  {
   "cell_type": "code",
   "execution_count": 11,
   "metadata": {
    "collapsed": false,
    "deletable": true,
    "editable": true
   },
   "outputs": [],
   "source": [
    "def addFloodedClassLabels(feature):\n",
    "    return feature.set({'isFlooded': 1})\n",
    "\n",
    "def addNotFloodedClassLabels(feature):\n",
    "    return feature.set({'isFlooded': 0})"
   ]
  },
  {
   "cell_type": "code",
   "execution_count": 12,
   "metadata": {
    "collapsed": true,
    "deletable": true,
    "editable": true
   },
   "outputs": [],
   "source": [
    "def cut_site_and_export(site_FCs):\n",
    "    for sub_site in site_FCs:\n",
    "        roi = sub_site[0]\n",
    "        flooded_area = sub_site[1]\n",
    "        roi_id = sub_site[2]\n",
    "        labelled_roi = roi.map(addNotFloodedClassLabels)\n",
    "        labelled_flood = flooded_area.map(addFloodedClassLabels)\n",
    "        newFC = cutCookies(labelled_roi, labelled_flood)\n",
    "        asset_id = roi_id.replace('area_of_interest', 'newFC')\n",
    "        export_as_asset(newFC, asset_id)"
   ]
  },
  {
   "cell_type": "code",
   "execution_count": 13,
   "metadata": {
    "collapsed": false,
    "deletable": true,
    "editable": true
   },
   "outputs": [],
   "source": [
    "# # batch it up\n",
    "\n",
    "# for site in sites_not_yet_uploaded:\n",
    "#     filenames = Cop_filenames.ALL_FILENAMES[site]\n",
    "#     site_FCs = get_assets_as_FCs(filenames)\n",
    "#     cut_site_and_export(site_FCs)"
   ]
  },
  {
   "cell_type": "code",
   "execution_count": null,
   "metadata": {
    "collapsed": true,
    "deletable": true,
    "editable": true
   },
   "outputs": [],
   "source": []
  },
  {
   "cell_type": "code",
   "execution_count": 14,
   "metadata": {
    "collapsed": true,
    "deletable": true,
    "editable": true
   },
   "outputs": [],
   "source": [
    "\n",
    "roi = ee.FeatureCollection(pathwe_roi_id)\n",
    "flooded_area = ee.FeatureCollection(pathwe_flood_id)\n",
    "roi_id = pathwe_roi_id\n",
    "labelled_roi = roi.map(addNotFloodedClassLabels)\n",
    "labelled_flood = flooded_area.map(addFloodedClassLabels)\n",
    "newFC = cutCookies(labelled_roi, labelled_flood)\n",
    "asset_id = roi_id.replace('area_of_interest', 'newFC')\n",
    "export_as_asset(newFC, asset_id)"
   ]
  },
  {
   "cell_type": "code",
   "execution_count": 15,
   "metadata": {
    "collapsed": true,
    "deletable": true,
    "editable": true
   },
   "outputs": [],
   "source": [
    "\n",
    "roi = ee.FeatureCollection(irrawaddy_delta_roi_id)\n",
    "flooded_area = ee.FeatureCollection(irrawaddy_delta_flood_id)\n",
    "roi_id = irrawaddy_delta_roi_id\n",
    "labelled_roi = roi.map(addNotFloodedClassLabels)\n",
    "labelled_flood = flooded_area.map(addFloodedClassLabels)\n",
    "newFC = cutCookies(labelled_roi, labelled_flood)\n",
    "asset_id = roi_id.replace('area_of_interest', 'newFC')\n",
    "export_as_asset(newFC, asset_id)"
   ]
  },
  {
   "cell_type": "code",
   "execution_count": null,
   "metadata": {
    "collapsed": true,
    "deletable": true,
    "editable": true
   },
   "outputs": [],
   "source": []
  }
 ],
 "metadata": {
  "kernelspec": {
   "display_name": "Python 2",
   "language": "python",
   "name": "python2"
  },
  "language_info": {
   "codemirror_mode": {
    "name": "ipython",
    "version": 2
   },
   "file_extension": ".py",
   "mimetype": "text/x-python",
   "name": "python",
   "nbconvert_exporter": "python",
   "pygments_lexer": "ipython2",
   "version": "2.7.12"
  }
 },
 "nbformat": 4,
 "nbformat_minor": 2
}
